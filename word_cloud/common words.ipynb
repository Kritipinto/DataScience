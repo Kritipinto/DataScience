{
 "cells": [
  {
   "cell_type": "markdown",
   "metadata": {},
   "source": [
    "Find the most occuring words from the famous novel by Charles Dickens, A Tale of Two Cities. Find the most occuring words including the stopwords and excluding the stopwords. "
   ]
  },
  {
   "cell_type": "code",
   "execution_count": 29,
   "metadata": {},
   "outputs": [
    {
     "data": {
      "text/plain": [
       "186"
      ]
     },
     "execution_count": 29,
     "metadata": {},
     "output_type": "execute_result"
    }
   ],
   "source": [
    "#used to get the top common values\n",
    "import collections\n",
    "\n",
    "#create a set of stopwords by reading it from the file and stripping space\n",
    "stopwords = set(line.strip() for line in open('stopwords'))\n",
    "len(stopwords)"
   ]
  },
  {
   "cell_type": "markdown",
   "metadata": {},
   "source": [
    "#Most common words in the novel excluding the stopwords"
   ]
  },
  {
   "cell_type": "code",
   "execution_count": 46,
   "metadata": {},
   "outputs": [
    {
     "name": "stdout",
     "output_type": "stream",
     "text": [
      "said : 642\n",
      "mr : 616\n",
      "one : 420\n",
      "lorry : 313\n",
      "will : 290\n",
      "upon : 289\n",
      "little : 264\n",
      "man : 259\n",
      "defarge : 259\n",
      "time : 236\n"
     ]
    }
   ],
   "source": [
    "#open the novel file \n",
    "file = open('98-0.txt')\n",
    "\n",
    "#create a wordcount dictionary\n",
    "wordcount = {}\n",
    "\n",
    "#read the file\n",
    "#avoid duplicates by converting the words to lowercase and exclusing punctuations\n",
    "for word in file.read().lower().split():\n",
    "    word = word.replace('.', '')\n",
    "    word = word.replace(',', '')\n",
    "    word = word.replace(\"\\\"\", '')\n",
    "    word = word.replace(\"“\",\"\")\n",
    "    #if word is not in the dictionary count as 1\n",
    "    #find the most common words excluding the stopwords\n",
    "    if word not in stopwords:\n",
    "        if word not in wordcount:\n",
    "            wordcount[word] = 1\n",
    "        #if word is in the dictionary increment the value by 1\n",
    "        else:\n",
    "            wordcount[word] += 1\n",
    "\n",
    "d = collections.Counter(wordcount)\n",
    "\n",
    "for word, count in d.most_common(10):\n",
    "    print(word , ':', count)"
   ]
  },
  {
   "cell_type": "markdown",
   "metadata": {},
   "source": [
    "#Most common words in the novel including the stopwords"
   ]
  },
  {
   "cell_type": "code",
   "execution_count": 48,
   "metadata": {},
   "outputs": [
    {
     "name": "stdout",
     "output_type": "stream",
     "text": [
      "the : 8177\n",
      "and : 4984\n",
      "of : 4122\n",
      "to : 3536\n",
      "a : 2976\n",
      "in : 2612\n",
      "his : 1998\n",
      "it : 1879\n",
      "i : 1872\n",
      "that : 1861\n"
     ]
    }
   ],
   "source": [
    "#open the novel file \n",
    "file = open('98-0.txt')\n",
    "\n",
    "#create a wordcount dictionary\n",
    "wordcount = {}\n",
    "\n",
    "#read the file\n",
    "#avoid duplicates by converting the words to lowercase and exclusing punctuations\n",
    "for word in file.read().lower().split():\n",
    "    word = word.replace('.', '')\n",
    "    word = word.replace(',', '')\n",
    "    word = word.replace(\"\\\"\", '')\n",
    "    word = word.replace(\"“\",\"\")\n",
    "    #if word is not in the dictionary count as 1\n",
    "    if word not in wordcount:\n",
    "        wordcount[word] = 1\n",
    "        #if word is in the dictionary increment the value by 1\n",
    "    else:\n",
    "        wordcount[word] += 1\n",
    "\n",
    "d = collections.Counter(wordcount)\n",
    "\n",
    "for word, count in d.most_common(10):\n",
    "    print(word , ':', count)"
   ]
  }
 ],
 "metadata": {
  "kernelspec": {
   "display_name": "Python 3",
   "language": "python",
   "name": "python3"
  },
  "language_info": {
   "codemirror_mode": {
    "name": "ipython",
    "version": 3
   },
   "file_extension": ".py",
   "mimetype": "text/x-python",
   "name": "python",
   "nbconvert_exporter": "python",
   "pygments_lexer": "ipython3",
   "version": "3.7.1"
  }
 },
 "nbformat": 4,
 "nbformat_minor": 2
}
