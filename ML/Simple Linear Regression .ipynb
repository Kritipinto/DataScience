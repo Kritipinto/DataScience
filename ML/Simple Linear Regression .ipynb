{
 "cells": [
  {
   "cell_type": "code",
   "execution_count": 1,
   "metadata": {},
   "outputs": [],
   "source": [
    "#import the necessary libraries\n",
    "from statistics import mean\n",
    "import numpy as np\n",
    "\n",
    "#libraries for plotting\n",
    "import matplotlib.pyplot as plt\n",
    "from matplotlib import style"
   ]
  },
  {
   "cell_type": "code",
   "execution_count": 2,
   "metadata": {},
   "outputs": [],
   "source": [
    "#assuming some example variables\n",
    "#xs = np.array([1, 2, 3, 4, 5, 6], dtype = np.float64)\n",
    "#ys = np.array([5, 4, 6, 5, 6, 7], dtype = np.float64)"
   ]
  },
  {
   "cell_type": "code",
   "execution_count": 13,
   "metadata": {},
   "outputs": [],
   "source": [
    "#Creating a dataset with random values\n",
    "import random\n",
    "\n",
    "def create_dataset(hm, variance, step = 2, correlation = False):\n",
    "    val = 1\n",
    "    ys = []\n",
    "    for i in range(hm):\n",
    "        y = val + random.randrange(-variance,variance)\n",
    "        ys.append(y)\n",
    "        if correlation and correlation == 'pos':\n",
    "            val+=step\n",
    "        elif correlation and correlation == 'neg':\n",
    "            val-=step\n",
    "    \n",
    "    xs = [i for i in range(len(ys))]\n",
    "    \n",
    "    return np.array(xs, dtype = np.float64), np.array(ys, dtype = np.float64)"
   ]
  },
  {
   "cell_type": "code",
   "execution_count": 16,
   "metadata": {},
   "outputs": [
    {
     "name": "stdout",
     "output_type": "stream",
     "text": [
      "0.9516460906443589\n"
     ]
    }
   ],
   "source": [
    "#y = mx + b -> slope of the line\n",
    "#m = ((mean(x)*mean(y)) - mean(x*y)) / ((mean(x))^2 - mean(x^2))\n",
    "#b = mean(y) - (m* mean(x))\n",
    "#This function takes (x, y) calculates the m, b and returns them\n",
    "def best_fit_line_and_intercept(xs, ys):\n",
    "    m = ( ((mean(xs)* mean(ys)) - mean(xs*ys)) /\n",
    "        ((mean(xs) * mean(xs)) - mean(xs*xs)))\n",
    "    \n",
    "    b = mean(ys) - (m * mean(xs))\n",
    "    \n",
    "    return m, b\n",
    "\n",
    "xs, ys = create_dataset(40,10,2,correlation='neg')\n",
    "\n",
    "m, b = best_fit_line_and_intercept(xs, ys)\n",
    "\n",
    "def squared_error(ys_orig, ys_line):\n",
    "    return sum((ys_line - ys_orig)** 2)\n",
    "\n",
    "def coefficient_of_determination(ys_orig, ys_line):\n",
    "    y_mean_line = [mean(ys_orig) for y in ys_orig]\n",
    "    squared_error_regression  = squared_error(ys_orig, ys_line)\n",
    "    squared_error_y_mean = squared_error(ys_orig, y_mean_line)\n",
    "    return 1 -  (squared_error_regression /squared_error_y_mean)\n",
    "\n",
    "\n",
    "\n",
    "#regression_line is the calculated y value for the given x\n",
    "regression_line = [(m*x + b) for x in xs]\n",
    "\n",
    "\n",
    "#Next we can predict y value when x is given\n",
    "predict_x = 8\n",
    "predict_y = (m * predict_x)+b\n",
    "\n",
    "r_squared = coefficient_of_determination(ys, regression_line)\n",
    "print(r_squared)"
   ]
  },
  {
   "cell_type": "code",
   "execution_count": 18,
   "metadata": {},
   "outputs": [
    {
     "data": {
      "image/png": "[encoded data removed]",
      "text/plain": [
       "<Figure size 432x288 with 1 Axes>"
      ]
     },
     "metadata": {
      "needs_background": "light"
     },
     "output_type": "display_data"
    }
   ],
   "source": [
    "plt.scatter(xs, ys, color='#003F72', label = 'data')\n",
    "#plt.scatter(predict_x, predict_y, color = 'g')\n",
    "plt.plot(xs, regression_line, label = 'regression line')\n",
    "plt.legend(loc = 4)\n",
    "plt.show()"
   ]
  },
  {
   "cell_type": "code",
   "execution_count": null,
   "metadata": {},
   "outputs": [],
   "source": []
  }
 ],
 "metadata": {
  "kernelspec": {
   "display_name": "Python 3",
   "language": "python",
   "name": "python3"
  },
  "language_info": {
   "codemirror_mode": {
    "name": "ipython",
    "version": 3
   },
   "file_extension": ".py",
   "mimetype": "text/x-python",
   "name": "python",
   "nbconvert_exporter": "python",
   "pygments_lexer": "ipython3",
   "version": "3.7.1"
  }
 },
 "nbformat": 4,
 "nbformat_minor": 2
}
